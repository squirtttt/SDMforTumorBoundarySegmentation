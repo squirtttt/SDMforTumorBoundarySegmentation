{
 "cells": [
  {
   "cell_type": "markdown",
   "metadata": {},
   "source": [
    "### preparation"
   ]
  },
  {
   "cell_type": "code",
   "execution_count": null,
   "metadata": {},
   "outputs": [],
   "source": [
    "from PIL import Image\n",
    "import numpy as np\n",
    "import os\n",
    "import cv2\n",
    "import matplotlib.pyplot as plt\n",
    "from matplotlib.patches import Patch"
   ]
  },
  {
   "cell_type": "code",
   "execution_count": null,
   "metadata": {},
   "outputs": [],
   "source": [
    "def list_files(folder_path):\n",
    "    return [f for f in os.listdir(folder_path) if os.path.isfile(os.path.join(folder_path, f))]"
   ]
  },
  {
   "cell_type": "code",
   "execution_count": null,
   "metadata": {},
   "outputs": [],
   "source": [
    "train_patch_path = ''\n",
    "train_mask_path = ''\n",
    "val_patch_path = ''\n",
    "val_mask_path = ''\n",
    "\n",
    "train_patch_list = list_files(train_patch_path)\n",
    "train_mask_list = list_files(train_mask_path)\n",
    "val_patch_list = list_files(val_patch_path)\n",
    "val_mask_list = list_files(val_mask_path)"
   ]
  },
  {
   "cell_type": "code",
   "execution_count": null,
   "metadata": {},
   "outputs": [],
   "source": [
    "label_names = [\n",
    "    \"outside_roi\", \"tumor\", \"stroma\", \"lymphocytic_infiltrate\", \"necrosis or debris\",\n",
    "    \"glandular secretion\", \"blood\", \"exclude\", \"metaplasia NOS\", \"fat\",\n",
    "    \"plasma cell\", \"other immune infiltrate\", \"mucoid material\", \"normal acinus or duct\",\n",
    "    \"lymphatics\", \"undetermined\", \"nerve\", \"skin adnexa\", \"blood vessel\", \"angioinvasion\", \"dcis\" ]"
   ]
  },
  {
   "cell_type": "markdown",
   "metadata": {},
   "source": [
    "### crop patch image"
   ]
  },
  {
   "cell_type": "code",
   "execution_count": null,
   "metadata": {},
   "outputs": [],
   "source": [
    "def crop_patches(image, output_dir, crop_size=256):\n",
    "\n",
    "    file_name = os.path.join(train_patch_path, image)\n",
    "    base_name = os.path.splitext(os.path.basename(image))[0]\n",
    "    os.makedirs(output_dir, exist_ok=True)\n",
    "\n",
    "    img = Image.open(file_name)\n",
    "    crops = [\n",
    "        (0, 0, 256, 256),\n",
    "        (256, 0, 512, 256),\n",
    "        (0, 256, 256, 512),\n",
    "        (256, 256, 512, 512),\n",
    "    ]\n",
    "    for i, box in enumerate(crops, 1):\n",
    "        cropped = img.crop(box)\n",
    "        save_name = f'{base_name}_{i}.png'\n",
    "        save_path = os.path.join(output_dir, save_name)\n",
    "        cropped.save(save_path)\n",
    "        print(f'saved: {save_path}')"
   ]
  },
  {
   "cell_type": "code",
   "execution_count": null,
   "metadata": {},
   "outputs": [],
   "source": [
    "for i in range(len(train_patch_list)):\n",
    "    crop_patches(train_patch_list[i], train_patch_output)"
   ]
  },
  {
   "cell_type": "markdown",
   "metadata": {},
   "source": [
    "### create mask image"
   ]
  },
  {
   "cell_type": "code",
   "execution_count": null,
   "metadata": {},
   "outputs": [],
   "source": [
    "def mask_filter_save(mask, output_path, target_label=[1, 2, 20], label_colors = {\n",
    "        1: (255, 0, 0),   # tumor\n",
    "        2: (0, 255, 0), # stroma\n",
    "        20: (0, 0, 255),  # dcis\n",
    "    }):\n",
    "    os.makedirs(output_path, exist_ok=True)\n",
    "    file_name = os.path.join(train_mask_path, mask)\n",
    "    base_name, ext = os.path.splitext(os.path.basename(file_name))\n",
    "    # print(base_name)\n",
    "    mask = np.array(Image.open(file_name))\n",
    "\n",
    "    \n",
    "    crops = [\n",
    "        (0, 0, 256, 256),\n",
    "        (256, 0, 512, 256),\n",
    "        (0, 256, 256, 512),\n",
    "        (256, 256, 512, 512),\n",
    "    ]\n",
    "\n",
    "    for idx, (x1, y1, x2, y2) in enumerate(crops, 1):\n",
    "        patch = mask[y1:y2, x1:x2]\n",
    "        labels_in_patch, cnt = np.unique(patch, return_counts=True)\n",
    "        total_pixels = patch.size\n",
    "        \n",
    "        found_labels = set(labels_in_patch).intersection(target_label)\n",
    "        found_cnt = [cnt[i] for i, label in enumerate(labels_in_patch) if label in found_labels]\n",
    "        found_ratio = sum(found_cnt)/total_pixels\n",
    "        \n",
    "\n",
    "        if len(found_labels)>=1 and found_ratio < 0.95:\n",
    "            rgb_patch = np.zeros((256, 256, 3), dtype=np.uint8)\n",
    "            for label, color in label_colors.items():\n",
    "                rgb_patch[patch==label] = color\n",
    "\n",
    "            vis_img = Image.fromarray(rgb_patch)\n",
    "            save_name = f'{base_name}_{idx}.png'\n",
    "            save_path = os.path.join(output_path, save_name)\n",
    "            vis_img.save(save_path)\n",
    "            print(f'save at {save_name}')\n",
    "            # plt.figure(figsize=(4,4))\n",
    "            # plt.imshow(vis_img)\n",
    "            # plt.axis('off')\n",
    "            # plt.show()\n",
    "        else: \n",
    "            continue"
   ]
  },
  {
   "cell_type": "code",
   "execution_count": null,
   "metadata": {},
   "outputs": [],
   "source": [
    "for i in range(len(train_mask_list)):\n",
    "    mask_filter_save(train_mask_list[i], train_mask_output_3)"
   ]
  },
  {
   "cell_type": "markdown",
   "metadata": {},
   "source": [
    "### create npy files"
   ]
  },
  {
   "cell_type": "code",
   "execution_count": null,
   "metadata": {},
   "outputs": [],
   "source": [
    "train_mask_list = list_files(train_mask_path)"
   ]
  },
  {
   "cell_type": "code",
   "execution_count": null,
   "metadata": {},
   "outputs": [],
   "source": [
    "# check png -> npy\n",
    "COLOR_TO_CLASS = {\n",
    "    (0, 0, 0): 0, # background\n",
    "    (255, 0, 0) : 1, # tumor\n",
    "    (0, 255, 0) : 2, # stroma\n",
    "    (0, 0, 255) : 20 # dcis\n",
    "}\n",
    "\n",
    "def convert_png_to_npy(png_file, output_path, visualize=True):\n",
    "    # print(f\"file name: {png_file}\")\n",
    "    png_path = os.path.join(train_mask_path, png_file)\n",
    "    png = Image.open(png_path).convert('RGB')\n",
    "\n",
    "    np_array = np.array(png)\n",
    "\n",
    "    h,w, _ = np_array.shape\n",
    "    label_mask = np.zeros((h, w), dtype=np.uint8)\n",
    "\n",
    "    for rgb, class_id in COLOR_TO_CLASS.items():\n",
    "        mask = np.all(np_array==rgb, axis=-1)\n",
    "        label_mask[mask] = class_id\n",
    "\n",
    "\n",
    "    # print out\n",
    "    # print(f\"shape: {label_mask.shape}\")\n",
    "    # print(f\"unique class value: {np.unique(label_mask)}\")\n",
    "    # print(label_mask)\n",
    "\n",
    "    # visualize\n",
    "    # if visualize:\n",
    "    #     plt.figure(figsize=(6, 6))\n",
    "    #     plt.imshow(np_array)  # RGB 이미지 시각화\n",
    "    #     plt.title(\"Original RGB Mask (PNG)\")\n",
    "    #     plt.axis('off')\n",
    "    #     plt.show()\n",
    "\n",
    "    # save\n",
    "    os.makedirs(output_path, exist_ok=True)\n",
    "    npy_filename = os.path.splitext(png_file)[0]+'.npy'\n",
    "    npy_path = os.path.join(output_path, npy_filename)\n",
    "\n",
    "    np.save(npy_path, label_mask)\n",
    "    print(f'saved at {npy_filename}')"
   ]
  },
  {
   "cell_type": "code",
   "execution_count": null,
   "metadata": {},
   "outputs": [],
   "source": [
    "for i in range(len(train_mask_list)):\n",
    "    convert_png_to_npy(train_mask_list[i], output_path)"
   ]
  },
  {
   "cell_type": "markdown",
   "metadata": {},
   "source": [
    "### generate combined npy"
   ]
  },
  {
   "cell_type": "code",
   "execution_count": null,
   "metadata": {},
   "outputs": [],
   "source": [
    "train_npy_list = list_files(train_npy_path)"
   ]
  },
  {
   "cell_type": "code",
   "execution_count": null,
   "metadata": {},
   "outputs": [],
   "source": [
    "def convert_combined(npy_file, save_path):\n",
    "    file_name = os.path.splitext(npy_file)[0]\n",
    "    img_name = file_name+'.png'\n",
    "    img_path = os.path.join(train_img_path, img_name)\n",
    "    npy_path = os.path.join(train_npy_path, npy_file)\n",
    "    \n",
    "    # print(f'image name: {img_name}, npy name: {npy_file}')\n",
    "\n",
    "    img = Image.open(img_path).convert('RGB')\n",
    "    img_array = np.array(img)\n",
    "\n",
    "    label_array = np.load(npy_path)\n",
    "\n",
    "    combined_data={\n",
    "        'input': img_array,\n",
    "        'label': label_array\n",
    "    }\n",
    "\n",
    "    os.makedirs(save_path, exist_ok=True)\n",
    "    save = os.path.join(save_path, npy_file)\n",
    "    np.save(save, combined_data)\n",
    "    print(f'save at {npy_path}')\n"
   ]
  },
  {
   "cell_type": "code",
   "execution_count": null,
   "metadata": {},
   "outputs": [],
   "source": [
    "for i in range(len(train_npy_list)):\n",
    "    convert_combined(train_npy_list[i], save_path)"
   ]
  }
 ],
 "metadata": {
  "language_info": {
   "name": "python"
  }
 },
 "nbformat": 4,
 "nbformat_minor": 2
}
